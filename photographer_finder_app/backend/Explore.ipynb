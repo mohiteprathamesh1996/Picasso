{
 "cells": [
  {
   "cell_type": "code",
   "execution_count": 1,
   "metadata": {},
   "outputs": [],
   "source": [
    "import os"
   ]
  },
  {
   "cell_type": "code",
   "execution_count": 2,
   "metadata": {},
   "outputs": [
    {
     "data": {
      "text/plain": [
       "'c:\\\\Users\\\\pm353\\\\Desktop\\\\Picasso\\\\photographer_finder_app\\\\backend'"
      ]
     },
     "execution_count": 2,
     "metadata": {},
     "output_type": "execute_result"
    }
   ],
   "source": [
    "os.getcwd()"
   ]
  },
  {
   "cell_type": "code",
   "execution_count": 3,
   "metadata": {},
   "outputs": [
    {
     "data": {
      "text/plain": [
       "['app.py',\n",
       " 'Explore.ipynb',\n",
       " 'instance',\n",
       " 'models',\n",
       " 'routes',\n",
       " 'services',\n",
       " 'utils',\n",
       " '__init__.py',\n",
       " '__pycache__']"
      ]
     },
     "execution_count": 3,
     "metadata": {},
     "output_type": "execute_result"
    }
   ],
   "source": [
    "os.listdir()"
   ]
  },
  {
   "cell_type": "code",
   "execution_count": 4,
   "metadata": {},
   "outputs": [],
   "source": [
    "# backend/app.py\n",
    "from flask import Flask, jsonify\n",
    "from flask_sqlalchemy import SQLAlchemy\n",
    "from flask_migrate import Migrate\n",
    "\n",
    "# Initialize Flask app\n",
    "app = Flask(__name__)\n",
    "app.config['SQLALCHEMY_DATABASE_URI'] = 'sqlite:///photographers.db'\n",
    "app.config['SQLALCHEMY_TRACK_MODIFICATIONS'] = False\n",
    "\n",
    "# Initialize database and migration\n",
    "db = SQLAlchemy(app)\n",
    "migrate = Migrate(app, db)"
   ]
  },
  {
   "cell_type": "code",
   "execution_count": 14,
   "metadata": {},
   "outputs": [
    {
     "name": "stdout",
     "output_type": "stream",
     "text": [
      "Tables: FacadeDict({'user': Table('user', MetaData(), Column('id', Integer(), table=<user>, primary_key=True, nullable=False), Column('username', String(length=80), table=<user>, nullable=False), Column('email', String(length=120), table=<user>, nullable=False), Column('password', String(length=200), table=<user>, nullable=False), Column('role', String(length=10), table=<user>, nullable=False), schema=None), 'booking': Table('booking', MetaData(), Column('id', Integer(), table=<booking>, primary_key=True, nullable=False), Column('client_id', Integer(), ForeignKey('user.id'), table=<booking>, nullable=False), Column('photographer_id', Integer(), ForeignKey('user.id'), table=<booking>, nullable=False), Column('time', DateTime(), table=<booking>, nullable=False), Column('status', String(length=10), table=<booking>, default=ScalarElementColumnDefault('pending')), schema=None), 'review': Table('review', MetaData(), Column('id', Integer(), table=<review>, primary_key=True, nullable=False), Column('photographer_id', Integer(), ForeignKey('user.id'), table=<review>, nullable=False), Column('client_id', Integer(), ForeignKey('user.id'), table=<review>, nullable=False), Column('rating', Integer(), table=<review>, nullable=False), Column('comment', String(length=500), table=<review>), schema=None)})\n",
      "[<User john_doe>, <User john_asefgdoe>, <User jasvdohn_asefgdoe>]\n"
     ]
    }
   ],
   "source": [
    "# Import models\n",
    "from models.user import User\n",
    "from models.booking import Booking\n",
    "from models.review import Review\n",
    "\n",
    "from app import app, db\n",
    "from models.user import User\n",
    "\n",
    "with app.app_context():\n",
    "    # Create tables\n",
    "    db.create_all()\n",
    "    print(\"Tables:\", db.metadata.tables)\n",
    "\n",
    "    # Add a test user\n",
    "    new_user = User(\n",
    "        id=4654,\n",
    "        username=\"jasvdohn_asefgdoe\",\n",
    "        email=\"john@exaaefadmple.com\",\n",
    "        password=\"hasheadvaedvd_password\",\n",
    "        role=\"client\"\n",
    "    )\n",
    "    db.session.add(new_user)\n",
    "    db.session.commit()\n",
    "\n",
    "    # Verify user is added\n",
    "    users = User.query.all()\n",
    "    print(users)\n"
   ]
  },
  {
   "cell_type": "code",
   "execution_count": 21,
   "metadata": {},
   "outputs": [
    {
     "name": "stdout",
     "output_type": "stream",
     "text": [
      "ID: 123, Username: john_doe, Email: john@example.com, Role: client\n",
      "ID: 225, Username: john_asefgdoe, Email: john@exaadmple.com, Role: client\n",
      "ID: 4654, Username: jasvdohn_asefgdoe, Email: john@exaaefadmple.com, Role: client\n"
     ]
    }
   ],
   "source": [
    "with app.app_context():\n",
    "    # Fetch all rows in the User table\n",
    "    all_users = User.query.all()\n",
    "    \n",
    "    # Print the results\n",
    "    for user in all_users:\n",
    "        print(\n",
    "            f\"ID: {user.id}, \n",
    "            Username: {user.username}, \n",
    "            Email: {user.email}, \n",
    "            Role: {user.role}\"\n",
    "            )"
   ]
  },
  {
   "cell_type": "code",
   "execution_count": 25,
   "metadata": {},
   "outputs": [
    {
     "name": "stdout",
     "output_type": "stream",
     "text": [
      "     id           username                  email                password  \\\n",
      "0   123           john_doe       john@example.com         hashed_password   \n",
      "1   225      john_asefgdoe     john@exaadmple.com      hasheadvd_password   \n",
      "2  4654  jasvdohn_asefgdoe  john@exaaefadmple.com  hasheadvaedvd_password   \n",
      "\n",
      "     role  \n",
      "0  client  \n",
      "1  client  \n",
      "2  client  \n"
     ]
    }
   ],
   "source": [
    "with app.app_context():\n",
    "    # Create an engine from the database connection\n",
    "    engine = db.engine\n",
    "\n",
    "    # Query the User table and load it into a DataFrame\n",
    "    query = \"SELECT * FROM user\"\n",
    "    df = pd.read_sql(query, engine)\n",
    "\n",
    "    # Display the DataFrame\n",
    "    print(df)"
   ]
  },
  {
   "cell_type": "code",
   "execution_count": 26,
   "metadata": {},
   "outputs": [
    {
     "data": {
      "text/html": [
       "<div>\n",
       "<style scoped>\n",
       "    .dataframe tbody tr th:only-of-type {\n",
       "        vertical-align: middle;\n",
       "    }\n",
       "\n",
       "    .dataframe tbody tr th {\n",
       "        vertical-align: top;\n",
       "    }\n",
       "\n",
       "    .dataframe thead th {\n",
       "        text-align: right;\n",
       "    }\n",
       "</style>\n",
       "<table border=\"1\" class=\"dataframe\">\n",
       "  <thead>\n",
       "    <tr style=\"text-align: right;\">\n",
       "      <th></th>\n",
       "      <th>id</th>\n",
       "      <th>username</th>\n",
       "      <th>email</th>\n",
       "      <th>password</th>\n",
       "      <th>role</th>\n",
       "    </tr>\n",
       "  </thead>\n",
       "  <tbody>\n",
       "    <tr>\n",
       "      <th>0</th>\n",
       "      <td>123</td>\n",
       "      <td>john_doe</td>\n",
       "      <td>john@example.com</td>\n",
       "      <td>hashed_password</td>\n",
       "      <td>client</td>\n",
       "    </tr>\n",
       "    <tr>\n",
       "      <th>1</th>\n",
       "      <td>225</td>\n",
       "      <td>john_asefgdoe</td>\n",
       "      <td>john@exaadmple.com</td>\n",
       "      <td>hasheadvd_password</td>\n",
       "      <td>client</td>\n",
       "    </tr>\n",
       "    <tr>\n",
       "      <th>2</th>\n",
       "      <td>4654</td>\n",
       "      <td>jasvdohn_asefgdoe</td>\n",
       "      <td>john@exaaefadmple.com</td>\n",
       "      <td>hasheadvaedvd_password</td>\n",
       "      <td>client</td>\n",
       "    </tr>\n",
       "  </tbody>\n",
       "</table>\n",
       "</div>"
      ],
      "text/plain": [
       "     id           username                  email                password  \\\n",
       "0   123           john_doe       john@example.com         hashed_password   \n",
       "1   225      john_asefgdoe     john@exaadmple.com      hasheadvd_password   \n",
       "2  4654  jasvdohn_asefgdoe  john@exaaefadmple.com  hasheadvaedvd_password   \n",
       "\n",
       "     role  \n",
       "0  client  \n",
       "1  client  \n",
       "2  client  "
      ]
     },
     "execution_count": 26,
     "metadata": {},
     "output_type": "execute_result"
    }
   ],
   "source": [
    "df"
   ]
  },
  {
   "cell_type": "code",
   "execution_count": null,
   "metadata": {},
   "outputs": [],
   "source": []
  },
  {
   "cell_type": "code",
   "execution_count": 27,
   "metadata": {},
   "outputs": [
    {
     "name": "stdout",
     "output_type": "stream",
     "text": [
      "dict_keys(['user', 'booking', 'review'])\n"
     ]
    }
   ],
   "source": [
    "with app.app_context():\n",
    "    db.reflect()  # Reflect the database structure\n",
    "    print(db.metadata.tables.keys())"
   ]
  },
  {
   "cell_type": "code",
   "execution_count": null,
   "metadata": {},
   "outputs": [],
   "source": []
  },
  {
   "cell_type": "code",
   "execution_count": null,
   "metadata": {},
   "outputs": [],
   "source": []
  },
  {
   "cell_type": "code",
   "execution_count": null,
   "metadata": {},
   "outputs": [],
   "source": []
  },
  {
   "cell_type": "code",
   "execution_count": null,
   "metadata": {},
   "outputs": [],
   "source": []
  }
 ],
 "metadata": {
  "kernelspec": {
   "display_name": "venv",
   "language": "python",
   "name": "python3"
  },
  "language_info": {
   "codemirror_mode": {
    "name": "ipython",
    "version": 3
   },
   "file_extension": ".py",
   "mimetype": "text/x-python",
   "name": "python",
   "nbconvert_exporter": "python",
   "pygments_lexer": "ipython3",
   "version": "3.8.10"
  }
 },
 "nbformat": 4,
 "nbformat_minor": 2
}
